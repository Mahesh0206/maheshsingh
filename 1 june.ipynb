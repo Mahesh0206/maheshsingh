{
 "cells": [
  {
   "cell_type": "markdown",
   "metadata": {},
   "source": [
    "# Membership Operator"
   ]
  },
  {
   "cell_type": "code",
   "execution_count": 1,
   "metadata": {},
   "outputs": [
    {
     "name": "stdout",
     "output_type": "stream",
     "text": [
      "True\n",
      "False\n",
      "True\n",
      "False\n"
     ]
    }
   ],
   "source": [
    "#in, not in\n",
    "s2=\"dog is an animal\"\n",
    "s1=\"dog\"\n",
    "x=s1 in s2\n",
    "p=s1 not in s2\n",
    "y=s1 in s2\n",
    "q=s1 not in s2\n",
    "print(x)\n",
    "print(p)\n",
    "print(y)\n",
    "print(q)"
   ]
  },
  {
   "cell_type": "code",
   "execution_count": 7,
   "metadata": {},
   "outputs": [
    {
     "name": "stdout",
     "output_type": "stream",
     "text": [
      "not found\n"
     ]
    }
   ],
   "source": [
    "l1=[1,2,5,6]\n",
    "l2=[3,4]\n",
    "if l2 in l1:\n",
    "    print(\"l2 found in l1\")\n",
    "else:\n",
    "    print(\"not found\")"
   ]
  },
  {
   "cell_type": "code",
   "execution_count": 8,
   "metadata": {},
   "outputs": [
    {
     "name": "stdout",
     "output_type": "stream",
     "text": [
      "player1········\n",
      "player2········\n",
      "player1 r\n",
      "player2 p\n",
      "p2 winner\n"
     ]
    }
   ],
   "source": [
    "from getpass import getpass\n",
    "p1=getpass(\"player1\")\n",
    "p2=getpass(\"player2\")\n",
    "print(\"player1\",p1)\n",
    "print(\"player2\",p2)\n",
    "l=[('r','s'),('s','p'),('p','r')]\n",
    "if p1==p2:\n",
    "    print(\"match will be tied\")\n",
    "elif (p1,p2)in l:\n",
    "    print(\"player 1 winner\")\n",
    "else:\n",
    "    print(\"p2 winner\")\n",
    "    "
   ]
  },
  {
   "cell_type": "markdown",
   "metadata": {},
   "source": [
    "# Identity Operator"
   ]
  },
  {
   "cell_type": "code",
   "execution_count": 10,
   "metadata": {},
   "outputs": [
    {
     "name": "stdout",
     "output_type": "stream",
     "text": [
      "True\n",
      "False\n",
      "botn are different\n"
     ]
    }
   ],
   "source": [
    "#is or not is\n",
    "x=5\n",
    "y=5\n",
    "print(x is y)\n",
    "print(x is not y)\n",
    "p=3\n",
    "q=4\n",
    "if(p is q):\n",
    "    print(\"both are equal\")\n",
    "else:\n",
    "    print(\"botn are different\")"
   ]
  },
  {
   "cell_type": "code",
   "execution_count": null,
   "metadata": {
    "collapsed": true
   },
   "outputs": [],
   "source": []
  }
 ],
 "metadata": {
  "kernelspec": {
   "display_name": "Python 3",
   "language": "python",
   "name": "python3"
  },
  "language_info": {
   "codemirror_mode": {
    "name": "ipython",
    "version": 3
   },
   "file_extension": ".py",
   "mimetype": "text/x-python",
   "name": "python",
   "nbconvert_exporter": "python",
   "pygments_lexer": "ipython3",
   "version": "3.6.3"
  }
 },
 "nbformat": 4,
 "nbformat_minor": 2
}
