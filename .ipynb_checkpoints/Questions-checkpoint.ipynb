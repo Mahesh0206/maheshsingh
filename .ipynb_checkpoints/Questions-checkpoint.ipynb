{
 "cells": [
  {
   "cell_type": "markdown",
   "metadata": {},
   "source": [
    "Print prime number with user input using while loop"
   ]
  },
  {
   "cell_type": "code",
   "execution_count": 2,
   "metadata": {},
   "outputs": [
    {
     "name": "stdout",
     "output_type": "stream",
     "text": [
      "enter any number : 907\n",
      "number is prime\n"
     ]
    }
   ],
   "source": [
    "number=int(input(\"enter any number : \"))\n",
    "i=2\n",
    "p=0\n",
    "while i<number :\n",
    "    if number%i==0 :\n",
    "        p=1\n",
    "        print(\"number is not prime\")\n",
    "        break\n",
    "    i=i+1\n",
    "if p==0 :\n",
    "    print(\"number is prime\")\n",
    "    "
   ]
  },
  {
   "cell_type": "markdown",
   "metadata": {},
   "source": [
    "Print all the prime number b/w 1 to 100"
   ]
  },
  {
   "cell_type": "code",
   "execution_count": null,
   "metadata": {
    "collapsed": true
   },
   "outputs": [],
   "source": [
    "number=1\n",
    "i=2\n",
    "p=0\n",
    "while number<=100 :\n",
    "    while i<number :\n",
    "        if number%i==0 :\n",
    "            p=1\n",
    "            print(\"number is not prime\")\n",
    "            break\n",
    "        i=i+1\n",
    "    if p==0 :\n",
    "        print(\"number is prime\")"
   ]
  },
  {
   "cell_type": "markdown",
   "metadata": {
    "collapsed": true
   },
   "source": [
    "Print palindrome number"
   ]
  },
  {
   "cell_type": "code",
   "execution_count": 6,
   "metadata": {},
   "outputs": [
    {
     "name": "stdout",
     "output_type": "stream",
     "text": [
      "enter number : 111\n",
      "The number is palindrome\n"
     ]
    }
   ],
   "source": [
    "n=int(input(\"enter number : \"))\n",
    "rn=0\n",
    "p=n\n",
    "while n>0 :\n",
    "    rn=rn*10+n%10\n",
    "    n=n//10\n",
    "if rn==p :\n",
    "    print(\"The number is palindrome\")\n",
    "else :\n",
    "    print(\"The number is not palindorme\")"
   ]
  },
  {
   "cell_type": "markdown",
   "metadata": {
    "collapsed": true
   },
   "source": [
    "Print armstrong number with user input using while loop"
   ]
  },
  {
   "cell_type": "code",
   "execution_count": null,
   "metadata": {
    "collapsed": true
   },
   "outputs": [],
   "source": [
    "num=int(input(\"Enter a number: \"))\n",
    "sum=0\n",
    "r=0\n",
    "while p>0 :\n",
    "    r=n%10\n",
    "    r=r*r*r\n",
    "    sum=sum+r\n",
    "    num=num//10\n",
    "if sum==n :\n",
    "    print(\"The number is armstong\")\n",
    "else :\n",
    "    print(\"The number is not armstrong\")"
   ]
  },
  {
   "cell_type": "code",
   "execution_count": 6,
   "metadata": {},
   "outputs": [
    {
     "name": "stdout",
     "output_type": "stream",
     "text": [
      "*\n",
      "**\n",
      "***\n",
      "****\n",
      "*****\n"
     ]
    }
   ],
   "source": [
    "def pypart(n) :\n",
    "    for i in range(0,n):\n",
    "        for j in range(0,i+1):\n",
    "            print('*',end=\"\")\n",
    "        print()\n",
    "n=5\n",
    "pypart(n)"
   ]
  },
  {
   "cell_type": "code",
   "execution_count": 17,
   "metadata": {
    "scrolled": true
   },
   "outputs": [
    {
     "name": "stdout",
     "output_type": "stream",
     "text": [
      "        * \n",
      "      * * \n",
      "    * * * \n",
      "  * * * * \n",
      "* * * * * \n"
     ]
    }
   ],
   "source": [
    "def pypart(n) :\n",
    "    k=2*n-2\n",
    "    for i in range(0,n):\n",
    "        for j in range(0,k):\n",
    "            print(end=\" \")\n",
    "        k=k-2\n",
    "        for j in range(0,i+1):\n",
    "            print('* ',end=\"\")\n",
    "        print()\n",
    "n=5\n",
    "pypart(n)"
   ]
  },
  {
   "cell_type": "code",
   "execution_count": 14,
   "metadata": {},
   "outputs": [
    {
     "name": "stdout",
     "output_type": "stream",
     "text": [
      "        * \n",
      "      * * \n",
      "    * * * \n",
      "  * * * * \n",
      "* * * * * \n"
     ]
    }
   ],
   "source": [
    "k=8\n",
    "for i in range(0,5):\n",
    "    for j in range(0,k):\n",
    "        print(end=\" \")\n",
    "    k=k-2\n",
    "    for j in range(0,i+1):\n",
    "        print(\"* \",end=\"\")\n",
    "    print()"
   ]
  },
  {
   "cell_type": "code",
   "execution_count": 39,
   "metadata": {},
   "outputs": [
    {
     "name": "stdout",
     "output_type": "stream",
     "text": [
      "        * \n",
      "       * * \n",
      "      * * * \n",
      "     * * * * \n",
      "    * * * * * \n"
     ]
    }
   ],
   "source": [
    "def triangle(n) :\n",
    "    k=2*n-2\n",
    "    for i in range(0,n):\n",
    "        for j in range(0,k):\n",
    "            print(end=\" \")\n",
    "        k=k-1\n",
    "        for j in range(0,i+1):\n",
    "            print('* ',end=\"\")\n",
    "        print()\n",
    "n=5\n",
    "triangle(n)"
   ]
  },
  {
   "cell_type": "code",
   "execution_count": 22,
   "metadata": {},
   "outputs": [
    {
     "name": "stdout",
     "output_type": "stream",
     "text": [
      "1 \n",
      "1 2 \n",
      "1 2 3 \n",
      "1 2 3 4 \n",
      "1 2 3 4 5 \n"
     ]
    }
   ],
   "source": [
    "def numpat(n):\n",
    "    num=1\n",
    "    for i in range(0,n):\n",
    "        num=1\n",
    "        for j in range(0,i+1):\n",
    "            print(num,end=\" \")\n",
    "            num=num+1\n",
    "        print()\n",
    "n=5\n",
    "numpat(n)"
   ]
  },
  {
   "cell_type": "code",
   "execution_count": 25,
   "metadata": {},
   "outputs": [
    {
     "name": "stdout",
     "output_type": "stream",
     "text": [
      "Enter a num : 5\n",
      "\t \n",
      "\t      *\n",
      "\t     ***\n",
      "\t    *****\n",
      "\t   *******\n",
      "\t  *********\n"
     ]
    }
   ],
   "source": [
    "n=int(input(\"Enter a num : \"))\n",
    "for row in range(0,n+1):\n",
    "    print(\"\\t\",end=\"\")\n",
    "    print(\" \"*(n-c//2),end='')\n",
    "    c=2*row-1\n",
    "    print(\"*\"*c,end='')\n",
    "    print()"
   ]
  },
  {
   "cell_type": "code",
   "execution_count": 24,
   "metadata": {},
   "outputs": [
    {
     "name": "stdout",
     "output_type": "stream",
     "text": [
      "1 \n",
      "2 3 \n",
      "4 5 6 \n",
      "7 8 9 10 \n",
      "11 12 13 14 15 \n"
     ]
    }
   ],
   "source": [
    "n=1\n",
    "for i in range(0,5):\n",
    "    for j in range(0,i+1):\n",
    "        print(n,end=\" \")\n",
    "        n=n+1\n",
    "    print()"
   ]
  },
  {
   "cell_type": "code",
   "execution_count": 12,
   "metadata": {
    "scrolled": true
   },
   "outputs": [
    {
     "ename": "SyntaxError",
     "evalue": "invalid syntax (<ipython-input-12-ae7da07bb567>, line 3)",
     "output_type": "error",
     "traceback": [
      "\u001b[1;36m  File \u001b[1;32m\"<ipython-input-12-ae7da07bb567>\"\u001b[1;36m, line \u001b[1;32m3\u001b[0m\n\u001b[1;33m    for i range(0,5)\u001b[0m\n\u001b[1;37m              ^\u001b[0m\n\u001b[1;31mSyntaxError\u001b[0m\u001b[1;31m:\u001b[0m invalid syntax\n"
     ]
    }
   ],
   "source": [
    "p=1\n",
    "n=1\n",
    "for i range(0,5)\n",
    "    for j in range(0,i+1)\n",
    "        print(p,end=\" \")\n",
    "        p=p+1\n",
    "    print(\"\\n\")\n"
   ]
  },
  {
   "cell_type": "code",
   "execution_count": 4,
   "metadata": {},
   "outputs": [
    {
     "name": "stdout",
     "output_type": "stream",
     "text": [
      "    *\n",
      "   **\n",
      "  ***\n",
      " ****\n",
      "*****\n"
     ]
    }
   ],
   "source": [
    "k=4\n",
    "j=1\n",
    "for i in range(1,6):\n",
    "    print(k*' '+j*'*')\n",
    "    k=k-1\n",
    "    j=j+1"
   ]
  },
  {
   "cell_type": "code",
   "execution_count": 34,
   "metadata": {},
   "outputs": [
    {
     "name": "stdout",
     "output_type": "stream",
     "text": [
      "Enter a num : 5\n",
      "*****\n",
      "****\n",
      "***\n",
      "**\n",
      "*\n"
     ]
    }
   ],
   "source": [
    "n=int(input(\"Enter a num : \"))\n",
    "for i in range(0,n):\n",
    "    for j in range(n,i,-1):\n",
    "        print(\"*\",end='')\n",
    "    print()"
   ]
  },
  {
   "cell_type": "code",
   "execution_count": 46,
   "metadata": {},
   "outputs": [
    {
     "name": "stdout",
     "output_type": "stream",
     "text": [
      "Enter a num : 5\n",
      "****\n",
      "***\n",
      "**\n",
      "*\n",
      "\n"
     ]
    }
   ],
   "source": [
    "n=int(input(\"Enter a num : \"))\n",
    "for row in range(1,n+1):\n",
    "        print(\"*\"*(n-row),end='')\n",
    "        print()"
   ]
  },
  {
   "cell_type": "code",
   "execution_count": 52,
   "metadata": {},
   "outputs": [
    {
     "name": "stdout",
     "output_type": "stream",
     "text": [
      "Enter a num : 5\n",
      "***\n",
      " **\n",
      "  *\n",
      "   \n",
      "    \n"
     ]
    }
   ],
   "source": [
    "n=int(input(\"Enter a num : \"))\n",
    "for row in range(1,n+1):\n",
    "    print(\" \"*(row-1),end='')\n",
    "    print(\"*\"*(n-row-1),end='')\n",
    "    print()"
   ]
  },
  {
   "cell_type": "code",
   "execution_count": 53,
   "metadata": {},
   "outputs": [
    {
     "name": "stdout",
     "output_type": "stream",
     "text": [
      "Enter a num : 5\n",
      "****\n",
      " ***\n",
      "  **\n",
      "   *\n",
      "    \n"
     ]
    }
   ],
   "source": [
    "n=int(input(\"Enter a num : \"))\n",
    "for row in range(1,n+1):\n",
    "    print(\" \"*(row-1),end='')\n",
    "    print(\"*\"*(n-row),end='')\n",
    "    print()\n",
    "    "
   ]
  },
  {
   "cell_type": "code",
   "execution_count": 57,
   "metadata": {},
   "outputs": [
    {
     "name": "stdout",
     "output_type": "stream",
     "text": [
      "Enter no. of rows : 13\n",
      "*     *******\n",
      "*     *\n",
      "*     *\n",
      "*     *\n",
      "*     *\n",
      "*     *\n",
      "*************\n",
      "      *     *\n",
      "      *     *\n",
      "      *     *\n",
      "      *     *\n",
      "      *     *\n",
      "*******     *\n"
     ]
    }
   ],
   "source": [
    "#Swastik\n",
    "n=int(input(\"Enter no. of rows : \"))\n",
    "if not(n%2):\n",
    "    n+=1\n",
    "for row in range(1,n+1):\n",
    "    if row==1 :\n",
    "        print(\"*\",end='')\n",
    "        print(\" \"*(n//2-1),end='')\n",
    "        print(\"*\"*(n//2+1))\n",
    "    elif row<=n//2 :\n",
    "        print(\"*\",end='')\n",
    "        print(\" \"*(n//2-1),end='')\n",
    "        print(\"*\")\n",
    "    elif row==(n//2+1) :\n",
    "        print(\"*\"*n)\n",
    "    elif row<=n-1 :\n",
    "        print(\" \"*(n//2),end='')\n",
    "        print(\"*\",end='')\n",
    "        print(\" \"*(n//2-1),end='')\n",
    "        print(\"*\")\n",
    "    else :\n",
    "        print(\"*\"*(n//2+1),end='')\n",
    "        print(\" \"*(n//2-1),end='')\n",
    "        print(\"*\")"
   ]
  },
  {
   "cell_type": "code",
   "execution_count": null,
   "metadata": {
    "collapsed": true
   },
   "outputs": [],
   "source": []
  }
 ],
 "metadata": {
  "kernelspec": {
   "display_name": "Python 3",
   "language": "python",
   "name": "python3"
  },
  "language_info": {
   "codemirror_mode": {
    "name": "ipython",
    "version": 3
   },
   "file_extension": ".py",
   "mimetype": "text/x-python",
   "name": "python",
   "nbconvert_exporter": "python",
   "pygments_lexer": "ipython3",
   "version": "3.6.3"
  }
 },
 "nbformat": 4,
 "nbformat_minor": 2
}
